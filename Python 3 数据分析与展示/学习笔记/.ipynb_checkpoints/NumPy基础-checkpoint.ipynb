{
 "cells": [
  {
   "cell_type": "markdown",
   "metadata": {},
   "source": [
    "# NumPy（Numerical Python）"
   ]
  },
  {
   "cell_type": "markdown",
   "metadata": {},
   "source": [
    "### 数据维度的Python表示\n",
    "- 一维数据：列表和集合类型\n",
    "- 二维数据：列表类型\n",
    "- 多维数据：列表类型\n",
    "- 高维数据：字典类型或数据表示格式（JSON / XML / YAML等）"
   ]
  },
  {
   "cell_type": "markdown",
   "metadata": {},
   "source": [
    "## 简介"
   ]
  },
  {
   "cell_type": "markdown",
   "metadata": {},
   "source": [
    "NumPy是一个开源的Python科学计算基础库，包含：\n",
    "- 一个强大的n维数组对象 ndarray\n",
    "- 广播功能函数\n",
    "- 整合 C/C++/Fortran 代码的工具\n",
    "- 线性代数、傅里叶变换、随机数生成等功能\n",
    "\n",
    "NumPy是SciPy、Pandas等数据处理或科学计算库的基础。"
   ]
  },
  {
   "cell_type": "markdown",
   "metadata": {},
   "source": [
    "## 引用"
   ]
  },
  {
   "cell_type": "code",
   "execution_count": 3,
   "metadata": {},
   "outputs": [],
   "source": [
    "import numpy as np"
   ]
  },
  {
   "cell_type": "markdown",
   "metadata": {},
   "source": [
    "## n维数组对象 ndarray"
   ]
  },
  {
   "cell_type": "markdown",
   "metadata": {},
   "source": [
    "#### Python已有列表类型，为何还需要一个数组对象类型？"
   ]
  },
  {
   "cell_type": "markdown",
   "metadata": {},
   "source": [
    "- 数组对象可以去掉元素间运算所需的循环，使一维向量更像单个数据。\n",
    "- 设置专门的数组对象，经过优化，可以提升这类应用的运算速度。\n",
    "- 数组对象采用相同的数据类型，有助于节省运算和存储空间。"
   ]
  },
  {
   "cell_type": "code",
   "execution_count": 5,
   "metadata": {},
   "outputs": [
    {
     "name": "stdout",
     "output_type": "stream",
     "text": [
      "[81, 65, 53, 45, 41]\n"
     ]
    }
   ],
   "source": [
    "# 举例：计算 A² + B²，A和B是一维数组。\n",
    "\n",
    "# 不用numpy\n",
    "def pySum():\n",
    "    a = [0, 1, 2, 3, 4]\n",
    "    b = [9, 8, 7, 6, 5]\n",
    "    c = []\n",
    "    \n",
    "    for i in range(len(a)):\n",
    "        c.append(a[i]**2 + b[i]**2)\n",
    "    return c\n",
    "print(pySum())"
   ]
  },
  {
   "cell_type": "code",
   "execution_count": 7,
   "metadata": {},
   "outputs": [
    {
     "name": "stdout",
     "output_type": "stream",
     "text": [
      "[81 65 53 45 41]\n"
     ]
    }
   ],
   "source": [
    "# 使用numpy\n",
    "import numpy as np\n",
    "\n",
    "def npSum():\n",
    "    a = np.array([0, 1, 2, 3, 4])\n",
    "    b = np.array([9, 8, 7, 6, 5])\n",
    "    \n",
    "    c = a**2 + b**2\n",
    "    return c\n",
    "\n",
    "print(npSum())"
   ]
  },
  {
   "cell_type": "markdown",
   "metadata": {},
   "source": [
    "### ndarry简介"
   ]
  },
  {
   "cell_type": "markdown",
   "metadata": {},
   "source": [
    "ndarray是一个多维数组对象，由两部分构成：\n",
    "- 实际的数据\n",
    "- 描述这些数据的元数据（数据维度、数据类型等）\n",
    "\n",
    "ndarray数组一般要求所有元素类型相同，数组下标从 0 开始。"
   ]
  },
  {
   "cell_type": "markdown",
   "metadata": {},
   "source": [
    "`np.array()` 生成一个ndarray数组。"
   ]
  },
  {
   "cell_type": "code",
   "execution_count": 11,
   "metadata": {},
   "outputs": [
    {
     "data": {
      "text/plain": [
       "array([[0, 1, 2, 3, 4],\n",
       "       [9, 8, 7, 6, 5]])"
      ]
     },
     "execution_count": 11,
     "metadata": {},
     "output_type": "execute_result"
    }
   ],
   "source": [
    "a = np.array([[0, 1, 2, 3, 4],\n",
    "              [9, 8, 7, 6, 5]])\n",
    "a"
   ]
  },
  {
   "cell_type": "markdown",
   "metadata": {},
   "source": [
    "`np.array()` 输出成`[]`形式，元素用空格分隔。"
   ]
  },
  {
   "cell_type": "code",
   "execution_count": 10,
   "metadata": {},
   "outputs": [
    {
     "name": "stdout",
     "output_type": "stream",
     "text": [
      "[[0 1 2 3 4]\n",
      " [9 8 7 6 5]]\n"
     ]
    }
   ],
   "source": [
    "print(a)"
   ]
  },
  {
   "cell_type": "markdown",
   "metadata": {},
   "source": [
    "- axis（轴）：保存数据的维度\n",
    "- rank（秩）：轴的数量"
   ]
  },
  {
   "cell_type": "markdown",
   "metadata": {},
   "source": [
    "### ndarray对象的属性"
   ]
  },
  {
   "cell_type": "markdown",
   "metadata": {},
   "source": [
    "|属性|说明|\n",
    "|---|---|\n",
    "|.ndim|秩，即轴的数量或维度的数量|\n",
    "|.shape|ndarray对象的尺度，n行m列|\n",
    "|.size|ndarray对象元素的个数，相当于.shape中n*m的值|\n",
    "|.dtype|ndarray对象的元素类型|\n",
    "|.itemsize|ndarray对象中每个元素的大小，以字节为单位|"
   ]
  },
  {
   "cell_type": "markdown",
   "metadata": {},
   "source": [
    "### ndarray的元素类型"
   ]
  },
  {
   "cell_type": "markdown",
   "metadata": {},
   "source": [
    "|数据类型|说明|\n",
    "|---|---|\n",
    "|bool|布尔类型，True或False|\n",
    "|intc|与c语言中int类型一致，一般是int32或int64|\n",
    "|intp|用于索引的整数，与c语言中ssize_t一致，int32或int64|\n",
    "|int8|字节长度的整数，取值：[-128, 127]|\n",
    "|int16|16位长度的整数，取值：[-32768, 32767]|\n",
    "|int32|32位长度的整数，取值：[-2^31, 2^31-1]|\n",
    "|int64|64位长度的整数，取值：[-2^63, 2^63-1]|\n",
    "|uint8|8位无符号整数，|\n",
    "|uint16||\n",
    "|uint32||\n",
    "|uint64||\n",
    "|float16||\n",
    "|float32||\n",
    "|float64||\n",
    "|complex64||\n",
    "|complex128||\n"
   ]
  },
  {
   "cell_type": "markdown",
   "metadata": {},
   "source": [
    "### ndarray数组的创建方法"
   ]
  },
  {
   "cell_type": "markdown",
   "metadata": {},
   "source": [
    "#### 从Python中的列表、元组等类型创建ndarray数组"
   ]
  },
  {
   "cell_type": "code",
   "execution_count": 14,
   "metadata": {},
   "outputs": [],
   "source": [
    "# x = np.array(list/tuple, dtype=np.float32)\n",
    "# 当np.array()不指定dtype时，NumPy将根据数据情况关联一个dtype类型。"
   ]
  },
  {
   "cell_type": "code",
   "execution_count": 18,
   "metadata": {},
   "outputs": [
    {
     "name": "stdout",
     "output_type": "stream",
     "text": [
      "[0 1 2 3]\n"
     ]
    }
   ],
   "source": [
    "# 列表类型\n",
    "x = np.array([0, 1, 2, 3])\n",
    "print(x)"
   ]
  },
  {
   "cell_type": "code",
   "execution_count": 17,
   "metadata": {},
   "outputs": [
    {
     "name": "stdout",
     "output_type": "stream",
     "text": [
      "[4 5 6 7]\n"
     ]
    }
   ],
   "source": [
    "# 元组类型\n",
    "x = np.array((4, 5, 6, 7))\n",
    "print(x)"
   ]
  },
  {
   "cell_type": "code",
   "execution_count": 19,
   "metadata": {},
   "outputs": [
    {
     "name": "stdout",
     "output_type": "stream",
     "text": [
      "[[1.  2. ]\n",
      " [9.  8. ]\n",
      " [0.1 0.2]]\n"
     ]
    }
   ],
   "source": [
    "# 列表和元组混合类型\n",
    "x = np.array([[1,2], [9, 8], (0.1, 0.2)])\n",
    "print(x)"
   ]
  },
  {
   "cell_type": "markdown",
   "metadata": {},
   "source": [
    "#### 使用NumPy中函数创建ndarray数组"
   ]
  },
  {
   "cell_type": "markdown",
   "metadata": {},
   "source": [
    "|函数|说明|\n",
    "|---|---|\n",
    "|np.arange(n)||\n",
    "|np.ones(shape)||\n",
    "|np.zeros(shape)||\n",
    "|np.full(shape, val)||\n",
    "|np.eye(n)||\n",
    "|np.ones_like(a)||\n",
    "|np.zeros_like(a)||\n",
    "|np.full_like(a,val)||\n",
    "|np.linspace()||\n",
    "|np.concatenate()||"
   ]
  },
  {
   "cell_type": "code",
   "execution_count": null,
   "metadata": {},
   "outputs": [],
   "source": []
  }
 ],
 "metadata": {
  "kernelspec": {
   "display_name": "Python 3",
   "language": "python",
   "name": "python3"
  },
  "language_info": {
   "codemirror_mode": {
    "name": "ipython",
    "version": 3
   },
   "file_extension": ".py",
   "mimetype": "text/x-python",
   "name": "python",
   "nbconvert_exporter": "python",
   "pygments_lexer": "ipython3",
   "version": "3.7.4"
  }
 },
 "nbformat": 4,
 "nbformat_minor": 2
}
